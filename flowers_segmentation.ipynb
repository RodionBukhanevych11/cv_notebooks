{
  "nbformat": 4,
  "nbformat_minor": 0,
  "metadata": {
    "colab": {
      "name": "flowers_segmentation.ipynb",
      "provenance": []
    },
    "kernelspec": {
      "name": "python3",
      "display_name": "Python 3"
    },
    "accelerator": "GPU"
  },
  "cells": [
    {
      "cell_type": "code",
      "metadata": {
        "id": "KE4x9TzLAhNm"
      },
      "source": [
        "!gdown https://drive.google.com/uc?id=19fBCItau0MP1ABKlBNkpj1pMxOzIZLML&export=download\n",
        "!gdown https://drive.google.com/uc?id=1X7TLVCvi2a57SyjAdExPppzakxfenRD0&export=download\n",
        "!unzip train.zip -d train\n",
        "!unzip test.zip -d test"
      ],
      "execution_count": null,
      "outputs": []
    },
    {
      "cell_type": "code",
      "metadata": {
        "id": "pJWyr69_Dp_u"
      },
      "source": [
        "!pip install -U catalyst albumentations"
      ],
      "execution_count": null,
      "outputs": []
    },
    {
      "cell_type": "code",
      "metadata": {
        "id": "BImUF4JZApJp"
      },
      "source": [
        "import numpy as np\n",
        "from pathlib import Path\n",
        "import pandas as pd\n",
        "\n",
        "import torch\n",
        "import torch.nn as nn\n",
        "from torch.utils import data\n",
        "\n",
        "import catalyst\n",
        "from catalyst import dl\n",
        "from catalyst.utils import metrics, imread, set_global_seed\n",
        "import torchvision"
      ],
      "execution_count": 2,
      "outputs": []
    },
    {
      "cell_type": "code",
      "metadata": {
        "id": "gFXehB-hBJ9Q"
      },
      "source": [
        "set_global_seed(42)\n",
        "train_image_path = Path(\"train\") / \"images\"\n",
        "train_mask_path = Path(\"train\") / \"masks\"\n",
        "ALL_IMAGES = sorted(train_image_path.glob(\"*.png\"))\n",
        "ALL_MASKS = sorted(train_mask_path.glob(\"*.png\"))\n",
        "from torch.utils.data import Dataset\n",
        "\n",
        "class SegmentationDataset(Dataset):\n",
        "    def __init__(self, images=None, masks=None, transforms=None) -> None:\n",
        "        self.images = images\n",
        "        self.masks = masks\n",
        "        self.transforms = transforms\n",
        "\n",
        "    def __len__(self) -> int:\n",
        "        return len(self.images)\n",
        "\n",
        "    def __getitem__(self, idx: int) -> dict:\n",
        "        image_path = self.images[idx]\n",
        "        image = imread(image_path)\n",
        "\n",
        "        result = {\"image\": image}\n",
        "\n",
        "        if self.masks is not None:\n",
        "            result[\"mask\"] = imread(self.masks[idx]).mean(2) // 255\n",
        "\n",
        "        if self.transforms is not None:\n",
        "            result = self.transforms(**result)\n",
        "            if result.get(\"mask\", None) is not None:\n",
        "                result[\"mask\"] = result[\"mask\"].unsqueeze(0)\n",
        "\n",
        "        result[\"filename\"] = image_path.name\n",
        "        result[\"image size\"] = image.shape[:2]\n",
        "\n",
        "        return result"
      ],
      "execution_count": 3,
      "outputs": []
    },
    {
      "cell_type": "code",
      "metadata": {
        "id": "9wH1hl1UBqN-"
      },
      "source": [
        "#! pip install albumentations==0.4.6"
      ],
      "execution_count": null,
      "outputs": []
    },
    {
      "cell_type": "code",
      "metadata": {
        "id": "VGuCsDyEB3MX"
      },
      "source": [
        "import albumentations as albu\n",
        "from albumentations.pytorch import ToTensorV2 as ToTensor\n",
        "import cv2\n",
        "\n",
        "IMAGE_SIZE = 256\n",
        "train_transform = albu.Compose([\n",
        "    albu.HorizontalFlip(p=0.5),\n",
        "    albu.Resize(IMAGE_SIZE, IMAGE_SIZE),\n",
        "    albu.RandomResizedCrop(IMAGE_SIZE, IMAGE_SIZE, p=0.3),\n",
        "    albu.Normalize(),\n",
        "    ToTensor()\n",
        "])\n",
        "\n",
        "valid_transform = albu.Compose([\n",
        "    albu.Resize(IMAGE_SIZE, IMAGE_SIZE),\n",
        "    albu.Normalize(),\n",
        "    ToTensor()\n",
        "])"
      ],
      "execution_count": 4,
      "outputs": []
    },
    {
      "cell_type": "code",
      "metadata": {
        "id": "6atkTACdCP6v"
      },
      "source": [
        "from sklearn.model_selection import train_test_split\n",
        "from torch.utils.data import DataLoader\n",
        "\n",
        "batch_size = 20\n",
        "num_workers = 4\n",
        "\n",
        "indices = np.arange(len(ALL_IMAGES))\n",
        "\n",
        "train_indices, valid_indices = train_test_split(\n",
        "    indices, test_size=0.25, random_state=42, shuffle=True\n",
        ")\n",
        "\n",
        "np_images = np.array(ALL_IMAGES)\n",
        "np_masks = np.array(ALL_MASKS)\n",
        "\n",
        "train_dataset = SegmentationDataset(\n",
        "    images = np_images[train_indices].tolist(),\n",
        "    masks = np_masks[train_indices].tolist(),\n",
        "    transforms = train_transform\n",
        ")\n",
        "\n",
        "valid_dataset = SegmentationDataset(\n",
        "    images = np_images[valid_indices].tolist(),\n",
        "    masks = np_masks[valid_indices].tolist(),\n",
        "    transforms = valid_transform\n",
        ")\n",
        "\n",
        "loaders = {\n",
        "    \"train\": DataLoader(\n",
        "        train_dataset,\n",
        "        batch_size=batch_size,\n",
        "        shuffle=True,\n",
        "        num_workers=num_workers,\n",
        "        drop_last=True,\n",
        "    ),\n",
        "    \"valid\": DataLoader(\n",
        "        valid_dataset,\n",
        "        batch_size=batch_size,\n",
        "        shuffle=False,\n",
        "        num_workers=num_workers,\n",
        "        drop_last=True,\n",
        "    )\n",
        "}"
      ],
      "execution_count": 79,
      "outputs": []
    },
    {
      "cell_type": "code",
      "metadata": {
        "id": "r1fRJcBAHKni"
      },
      "source": [
        "!pip install pretrainedmodels==0.7.4\n",
        "!pip install segmentation_models_pytorch"
      ],
      "execution_count": null,
      "outputs": []
    },
    {
      "cell_type": "code",
      "metadata": {
        "id": "kAyfWQHUHSf7"
      },
      "source": [
        "import segmentation_models_pytorch as smp"
      ],
      "execution_count": 10,
      "outputs": []
    },
    {
      "cell_type": "code",
      "metadata": {
        "id": "ZU9FZTgHGuox"
      },
      "source": [
        "ENCODER = 'resnet101'\n",
        "ENCODER_WEIGHTS = 'imagenet'\n",
        "\n",
        "# create segmentation model with pretrained encoder\n",
        "model = smp.Unet(\n",
        "    encoder_name=ENCODER, \n",
        "    encoder_weights=ENCODER_WEIGHTS, \n",
        "    classes=1,\n",
        "    activation='sigmoid'\n",
        ")\n",
        "preprocessing_fn = smp.encoders.get_preprocessing_fn(ENCODER, ENCODER_WEIGHTS)"
      ],
      "execution_count": 12,
      "outputs": []
    },
    {
      "cell_type": "code",
      "metadata": {
        "id": "xMf0-56vHExG"
      },
      "source": [
        "from catalyst.contrib.nn import DiceLoss, IoULoss\n",
        "from catalyst.dl.runner import SupervisedRunner\n",
        "from torch.nn.functional import interpolate\n",
        "\n",
        "\n",
        "class SegmentationRunner(SupervisedRunner):\n",
        "    def predict_batch(self, batch):\n",
        "        prediction = {\"filename\": batch[\"filename\"]}\n",
        "        masks = self.model(batch[self.input_key].to(self.device))\n",
        "        image_size = list(zip(*batch[\"image size\"]))\n",
        "        prediction[\"mask\"] = [\n",
        "            interpolate(mask.unsqueeze(0), image_size).squeeze(0)\n",
        "            for mask, image_size in zip(masks, image_size)\n",
        "        ]\n",
        "        return prediction\n",
        "\n",
        "criterion = {\n",
        "    \"dice\": DiceLoss(),\n",
        "    \"iou\": IoULoss(),\n",
        "    \"bce\": nn.BCEWithLogitsLoss()\n",
        "}\n",
        "optimizer = torch.optim.Adam(model.parameters(), lr=1e-3, weight_decay=0.0005)\n",
        "\n",
        "runner = SegmentationRunner(input_key=\"image\", input_target_key=\"mask\")"
      ],
      "execution_count": 13,
      "outputs": []
    },
    {
      "cell_type": "code",
      "metadata": {
        "id": "chTGINRGH1QU"
      },
      "source": [
        "callbacks = [\n",
        "    dl.CriterionCallback(\n",
        "        input_key=\"mask\", prefix=\"loss_dice\", criterion_key=\"dice\"\n",
        "    ),\n",
        "    dl.CriterionCallback(\n",
        "        input_key=\"mask\", prefix=\"loss_iou\", criterion_key=\"iou\"\n",
        "    ),\n",
        "    dl.CriterionCallback(\n",
        "        input_key=\"mask\", prefix=\"loss_bce\", criterion_key=\"bce\"\n",
        "    ),\n",
        "    dl.MetricAggregationCallback(\n",
        "        prefix=\"loss\",\n",
        "        mode=\"weighted_sum\",\n",
        "        metrics={\"loss_dice\": 1.0, \"loss_iou\": 1.0, \"loss_bce\": 0.8},\n",
        "    ),\n",
        "    dl.DiceCallback(input_key=\"mask\"),\n",
        "    dl.IouCallback(input_key=\"mask\"),\n",
        "]"
      ],
      "execution_count": 14,
      "outputs": []
    },
    {
      "cell_type": "code",
      "metadata": {
        "id": "nNG363YXH69x",
        "outputId": "bcf54ff8-b8e4-4acb-9a35-71b0a2bce48d",
        "colab": {
          "base_uri": "https://localhost:8080/",
          "height": 827
        }
      },
      "source": [
        "from datetime import datetime\n",
        "runner.train(\n",
        "    model=model,\n",
        "    criterion=criterion,\n",
        "    optimizer=optimizer,\n",
        "    loaders=loaders,\n",
        "    callbacks=callbacks,\n",
        "    logdir=Path(\"/content/drive/My Drive/flowers_segm/logs\") / datetime.now().strftime(\"%Y%m%d-%H%M%S\"),\n",
        "    num_epochs=50,\n",
        "    main_metric=\"iou\",\n",
        "    minimize_metric=False,\n",
        "    verbose=True,\n",
        ")"
      ],
      "execution_count": 18,
      "outputs": [
        {
          "output_type": "stream",
          "text": [
            "\r1/50 * Epoch (train):   0% 0/17 [00:00<?, ?it/s]"
          ],
          "name": "stdout"
        },
        {
          "output_type": "stream",
          "text": [
            "/usr/local/lib/python3.6/dist-packages/catalyst/core/callbacks/optimizer.py:137: UserWarning:\n",
            "\n",
            "This overload of add is deprecated:\n",
            "\tadd(Number alpha, Tensor other)\n",
            "Consider using one of the following signatures instead:\n",
            "\tadd(Tensor other, *, Number alpha) (Triggered internally at  /pytorch/torch/csrc/utils/python_arg_parser.cpp:766.)\n",
            "\n"
          ],
          "name": "stderr"
        },
        {
          "output_type": "stream",
          "text": [
            "1/50 * Epoch (train): 100% 17/17 [12:17<00:00, 43.38s/it, dice=0.528, iou=0.359, loss=1.605, loss_bce=0.615, loss_dice=0.472, loss_iou=0.641]\n",
            "1/50 * Epoch (valid): 100% 3/3 [00:40<00:00, 13.46s/it, dice=0.451, iou=0.291, loss=2.043, loss_bce=0.982, loss_dice=0.549, loss_iou=0.709]\n",
            "[2020-10-09 07:05:30,538] \n",
            "1/50 * Epoch 1 (_base): lr=0.0010 | momentum=0.9000\n",
            "1/50 * Epoch 1 (train): dice=0.4750 | iou=0.3133 | loss=1.7466 | loss_bce=0.6687 | loss_dice=0.5250 | loss_iou=0.6867\n",
            "1/50 * Epoch 1 (valid): dice=0.4194 | iou=0.2657 | loss=2.1268 | loss_bce=1.0149 | loss_dice=0.5806 | loss_iou=0.7343\n",
            "2/50 * Epoch (train): 100% 17/17 [13:35<00:00, 47.99s/it, dice=0.432, iou=0.275, loss=1.818, loss_bce=0.657, loss_dice=0.568, loss_iou=0.725]\n",
            "2/50 * Epoch (valid): 100% 3/3 [00:46<00:00, 15.61s/it, dice=0.491, iou=0.325, loss=1.706, loss_bce=0.651, loss_dice=0.509, loss_iou=0.675]\n",
            "[2020-10-09 07:20:13,524] \n",
            "2/50 * Epoch 2 (_base): lr=0.0010 | momentum=0.9000\n",
            "2/50 * Epoch 2 (train): dice=0.4945 | iou=0.3291 | loss=1.6786 | loss_bce=0.6277 | loss_dice=0.5055 | loss_iou=0.6709\n",
            "2/50 * Epoch 2 (valid): dice=0.4667 | iou=0.3047 | loss=1.7518 | loss_bce=0.6540 | loss_dice=0.5333 | loss_iou=0.6953\n",
            "3/50 * Epoch (train): 100% 17/17 [15:16<00:00, 53.93s/it, dice=0.532, iou=0.362, loss=1.573, loss_bce=0.583, loss_dice=0.468, loss_iou=0.638]\n",
            "3/50 * Epoch (valid): 100% 3/3 [00:47<00:00, 15.92s/it, dice=0.511, iou=0.343, loss=1.651, loss_bce=0.631, loss_dice=0.489, loss_iou=0.657]\n",
            "[2020-10-09 07:36:41,131] \n",
            "3/50 * Epoch 3 (_base): lr=0.0010 | momentum=0.9000\n",
            "3/50 * Epoch 3 (train): dice=0.5027 | iou=0.3368 | loss=1.6531 | loss_bce=0.6157 | loss_dice=0.4973 | loss_iou=0.6632\n",
            "3/50 * Epoch 3 (valid): dice=0.4810 | iou=0.3170 | loss=1.7133 | loss_bce=0.6391 | loss_dice=0.5190 | loss_iou=0.6830\n",
            "4/50 * Epoch (train): 100% 17/17 [15:23<00:00, 54.33s/it, dice=0.527, iou=0.358, loss=1.584, loss_bce=0.587, loss_dice=0.473, loss_iou=0.642]\n",
            "4/50 * Epoch (valid): 100% 3/3 [00:47<00:00, 15.89s/it, dice=0.511, iou=0.343, loss=1.638, loss_bce=0.615, loss_dice=0.489, loss_iou=0.657]\n",
            "[2020-10-09 07:53:20,292] \n",
            "4/50 * Epoch 4 (_base): lr=0.0010 | momentum=0.9000\n",
            "4/50 * Epoch 4 (train): dice=0.5045 | iou=0.3381 | loss=1.6438 | loss_bce=0.6081 | loss_dice=0.4955 | loss_iou=0.6619\n",
            "4/50 * Epoch 4 (valid): dice=0.4844 | iou=0.3199 | loss=1.6847 | loss_bce=0.6114 | loss_dice=0.5156 | loss_iou=0.6801\n",
            "5/50 * Epoch (train): 100% 17/17 [15:31<00:00, 54.82s/it, dice=0.456, iou=0.295, loss=1.768, loss_bce=0.649, loss_dice=0.544, loss_iou=0.705]\n",
            "5/50 * Epoch (valid): 100% 3/3 [00:47<00:00, 15.94s/it, dice=0.512, iou=0.344, loss=1.631, loss_bce=0.608, loss_dice=0.488, loss_iou=0.656]\n",
            "[2020-10-09 08:10:04,719] \n",
            "5/50 * Epoch 5 (_base): lr=0.0010 | momentum=0.9000\n",
            "5/50 * Epoch 5 (train): dice=0.5100 | iou=0.3431 | loss=1.6291 | loss_bce=0.6026 | loss_dice=0.4900 | loss_iou=0.6569\n",
            "5/50 * Epoch 5 (valid): dice=0.4850 | iou=0.3205 | loss=1.6820 | loss_bce=0.6093 | loss_dice=0.5150 | loss_iou=0.6795\n",
            "6/50 * Epoch (train): 100% 17/17 [15:27<00:00, 54.55s/it, dice=0.426, iou=0.271, loss=1.825, loss_bce=0.651, loss_dice=0.574, loss_iou=0.729]\n",
            "6/50 * Epoch (valid): 100% 3/3 [00:47<00:00, 15.91s/it, dice=0.517, iou=0.348, loss=1.623, loss_bce=0.610, loss_dice=0.483, loss_iou=0.652]\n",
            "[2020-10-09 08:26:44,362] \n",
            "6/50 * Epoch 6 (_base): lr=0.0010 | momentum=0.9000\n",
            "6/50 * Epoch 6 (train): dice=0.4980 | iou=0.3325 | loss=1.6578 | loss_bce=0.6104 | loss_dice=0.5020 | loss_iou=0.6675\n",
            "6/50 * Epoch 6 (valid): dice=0.4873 | iou=0.3225 | loss=1.6828 | loss_bce=0.6157 | loss_dice=0.5127 | loss_iou=0.6775\n",
            "Early exiting\n",
            "7/50 * Epoch (train):  12% 2/17 [02:56<15:36, 62.43s/it, dice=0.518, iou=0.349, loss=1.607, loss_bce=0.592, loss_dice=0.482, loss_iou=0.651]"
          ],
          "name": "stdout"
        }
      ]
    },
    {
      "cell_type": "code",
      "metadata": {
        "id": "Bh4QeLUHfVw0"
      },
      "source": [
        "submission = {\"masks\": []}\n",
        "for prediction in runner.predict_loader(loader=loaders['valid']):\n",
        "    submission[\"masks\"].extend(mask\n",
        "        for mask in prediction[\"mask\"]\n",
        "    )"
      ],
      "execution_count": 80,
      "outputs": []
    },
    {
      "cell_type": "code",
      "metadata": {
        "id": "GXcu6O-Chg_X",
        "outputId": "76583166-e6b4-4ad8-b2c5-b36c5e99a603",
        "colab": {
          "base_uri": "https://localhost:8080/",
          "height": 269
        }
      },
      "source": [
        "for res in loaders['valid']:\n",
        "  plt.imshow(res['mask'][0][0])"
      ],
      "execution_count": 73,
      "outputs": [
        {
          "output_type": "display_data",
          "data": {
            "image/png": "[encoded data removed]",
            "text/plain": [
              "<Figure size 432x288 with 1 Axes>"
            ]
          },
          "metadata": {
            "tags": [],
            "needs_background": "light"
          }
        }
      ]
    },
    {
      "cell_type": "code",
      "metadata": {
        "id": "oSTP8gnOpj79",
        "outputId": "b5067449-2c46-4947-e472-bf1b1b9507ac",
        "colab": {
          "base_uri": "https://localhost:8080/",
          "height": 158
        }
      },
      "source": [
        "itere=iter(loaders['valid'])\n",
        "fig = plt.figure(figsize=(2, 2))\n",
        "fig.suptitle(\"Some examples of valid images with predicted masks\", fontsize=16)\n",
        "for i in range(4):\n",
        "    res = next(itere)\n",
        "    plt.subplot(2, 2, i+1)\n",
        "    plt.xticks([])\n",
        "    plt.yticks([])\n",
        "    plt.grid(False)\n",
        "    plt.imshow(res['mask'][0][0])\n",
        "plt.show()"
      ],
      "execution_count": 81,
      "outputs": [
        {
          "output_type": "display_data",
          "data": {
            "image/png": "[encoded data removed]",
            "text/plain": [
              "<Figure size 144x144 with 4 Axes>"
            ]
          },
          "metadata": {
            "tags": []
          }
        }
      ]
    },
    {
      "cell_type": "code",
      "metadata": {
        "id": "ADD3EnhHqiR9"
      },
      "source": [
        ""
      ],
      "execution_count": null,
      "outputs": []
    }
  ]
}